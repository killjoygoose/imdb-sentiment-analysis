{
 "cells": [
  {
   "cell_type": "markdown",
   "id": "8a51fcf7-8ff9-4f7b-bbfe-19a16e505b7a",
   "metadata": {},
   "source": [
    "The reviews seem to actually give the evaluation at the beginning and towards the end. The rest is mostly plot descriptions. Here I take the 20% from the start and towards the end and\n",
    "insert that into the model, instead of the full review. Thus we significantly reduce the prompt size - by e.g. 60% but keep the evaluatory context.\n",
    "\n",
    "-------------------------\n",
    "-------------------------\n",
    "\n",
    "Here are some examples:\n",
    "\n",
    "ORIGINAL:\n",
    "\n",
    "He is very good in this role as a disaffected and bored husband, a decorated air force officer, who becomes bored with his predictable suburban life and decides to make a radical change. One evening he meets Karen Sillas, an attractive woman younger than his current wife. A relationship develops, and Cole decides to take it to the next level. Not only does he have an affair, he fakes his death to escape his family obligations. Lies become increasingly more of a pattern as he begins to rob banks to keep his new wife (Sillas) happy, and to project the image that he is a success. A fictional delusion, apparently. This was also based on a true story which makes it all the more intriguing. Cole is believable and excellent in these roles. Recommended. 8/10.\n",
    "\n",
    "CROPPED:\n",
    "\n",
    "He is very good in this role as a disaffected and bored husband, a decorated air force officer, who becomes bored with his predictable suburban life and apparently. This was also based on a true story which makes it all the more intriguing. Cole is believable and excellent in these roles. Recommended. 8/10.\n",
    "\n",
    "-------------------------\n",
    "\n",
    "ORIGINAL:\n",
    "\n",
    "My main comment on this movie is how Zwick was able to get credible actors to work on this movie? Impressive cast  even for the supporting characters, none of which helps this movie really. I have to admit though, Tom Hank's cameo almost made it worth it  what was that about Tom? Did you lose a bet? The best cameo of the movie was Joe Isuzu though - by far a classic! The premise is good. Basinger's character, struggling with existence as a Pink Lady, is making her way toward Vegas motel by motel pitching the glorious pyramid of cosmetic sales. This happens as Corbett's character is on his way to Vegas to deliver an Elvis suit to his soon to be ex-wife motivated by",
    ".what else",
    ".extortion. As they both make their way, they have numerous run-ins with Elvis impersonators who on their way to an Elvis impersonating convention in Vegas. Soon, the FBI gets involved and begins to track what they think is an Elvis impersonator serial killer. Unfortunately, premise doesn't mean the movie was good. When watching this movie, imagine you are back in the first grade  when story lines and continuity aren't really important. It is much more enjoyable to just watch Basinger look beautiful in her Pink Lady outfit rather than wondering why what she is doing doesn't really make sense. The movie tries hard, but ultimately falls way way way short. Ultimately, it is filled with ideas that could have theoretically been funny but in practice were not that funny. It isn't the worst, but you may find you yourself feel like leaving the building when watching this one",
    "",
    " Don't say I didn't warn you!\n",
    "\n",
    "CROPPED:\n",
    "\n",
    "My main comment on this movie is how Zwick was able to get credible actors to work on this movie? Impressive cast  even for the supporting characters, none of which helps this movie really. I have to admit though, Tom Hank's cameo almost made it worth it  what was that about Tom? Did you lose sense. The movie tries hard, but ultimately falls way way way short. Ultimately, it is filled with ideas that could have theoretically been funny but in practice were not that funny. It isn't the worst, but you may find you yourself feel like leaving the building when watching this one Don't say I didn't warn you!\n",
    "\n",
    "---------------------------\n"
   ]
  },
  {
   "cell_type": "code",
   "execution_count": 19,
   "id": "ae6c6429-acac-4703-95f3-4f88fafba9c1",
   "metadata": {},
   "outputs": [],
   "source": [
    "import sys\n",
    "sys.path.append(\"..\")\n",
    "from llama_cpp import Llama\n",
    "import pandas as pd\n",
    "from langdetect import detect\n",
    "from mlflow_experiment import MlflowExperiment, EvaluationPipeline, InferencePipeline\n",
    "from mlflow_experiment.evaluation.metrics import (accuracy_score, \n",
    "                                                  precision,\n",
    "                                                  recall,\n",
    "                                                  false_negative_rate,\n",
    "                                                  false_positive_rate,\n",
    "                                                  median_response_token_count,\n",
    "                                                  median_query_token_count, \n",
    "                                                  median_processing_time, \n",
    "                                                  median_tokens_per_second, \n",
    "                                                  hallucination_rate, \n",
    "                                                  bad_output_format_rate)\n",
    "from mlflow_experiment.inference.prompt_building.basic_user_prompt_builder import (\n",
    "    BasicUserPromptBuilder,\n",
    ")\n",
    "from mlflow_experiment.inference.postprocessing.basic_postprocessing import (\n",
    "    BasicPostprocessing,\n",
    ")\n",
    "from eda_utils.helpers import keep_beginning_and_ending\n",
    "from mlflow_experiment.inference.model.basic_llama_cpp_model import BasicLlamaCppModel\n",
    "import dotenv\n",
    "import pandas as pd\n",
    "from itertools import product"
   ]
  },
  {
   "cell_type": "code",
   "execution_count": 20,
   "id": "7f192311-49ab-4f1e-ac22-5a539d8a7bd8",
   "metadata": {},
   "outputs": [
    {
     "data": {
      "text/plain": [
       "True"
      ]
     },
     "execution_count": 20,
     "metadata": {},
     "output_type": "execute_result"
    }
   ],
   "source": [
    "dotenv.load_dotenv(\"../.env\",override=True)"
   ]
  },
  {
   "cell_type": "code",
   "execution_count": 21,
   "id": "b7d60ee3-a790-483d-a5bc-5084d90d118a",
   "metadata": {},
   "outputs": [],
   "source": [
    "data = pd.read_json(\"../data/subsample.jsonl\", lines = True)\n",
    "data.loc[:, \"review\"] = data.review.apply(lambda x: keep_beginning_and_ending(x, 30, 30))"
   ]
  },
  {
   "cell_type": "code",
   "execution_count": 22,
   "id": "d46843af-04ff-4bdd-a741-6b9567f823de",
   "metadata": {},
   "outputs": [
    {
     "data": {
      "text/plain": [
       "\"This is an excellent, heartbreaking movie. It is by far the best I've seen both of them. The authentic locations are remarkable. The camera work is interesting and different. There are many famous Latin actors in the cast, making it all the more interesting for people familiar with Latin American cinema. I highly recommend this movie.\""
      ]
     },
     "execution_count": 22,
     "metadata": {},
     "output_type": "execute_result"
    }
   ],
   "source": [
    "keep_beginning_and_ending(\"This is an excellent, heartbreaking movie. It is by far the best I've seen that depicts the current reality in Latin America...kidnappings, corruption, ruthless and greedy police officials and heartless mayhem towards innocent victims. Denzel Washinton gives the most moving performance in his career, in my opinion. Dakota Fanning is an amazing young actress. The relationship between Washington and Fanning is wonderfully written and portrayed, I believed every minute. The cast is brilliant, Christopher Walken, Mickey Rourke are great as always. Walken lights up the screen for me like no other actor. I would have loved to see more of both of them. The authentic locations are remarkable. The camera work is interesting and different. There are many famous Latin actors in the cast, making it all the more interesting for people familiar with Latin American cinema. I highly recommend this movie.\",.1,.3)"
   ]
  },
  {
   "cell_type": "code",
   "execution_count": null,
   "id": "aaadb4a1-09b5-4af3-84f5-5a8cf1098409",
   "metadata": {},
   "outputs": [],
   "source": []
  },
  {
   "cell_type": "code",
   "execution_count": 23,
   "id": "24dbcbea-9f90-419d-b4c1-9b1a785f86e1",
   "metadata": {},
   "outputs": [],
   "source": [
    "ev_pipeline = EvaluationPipeline(accuracy_score,\n",
    "                                 precision,\n",
    "                                 recall,\n",
    "                                 false_negative_rate,\n",
    "                                 false_positive_rate,\n",
    "                                 median_response_token_count,\n",
    "                                 median_query_token_count,\n",
    "                                 median_processing_time,\n",
    "                                 median_tokens_per_second,\n",
    "                                 hallucination_rate,\n",
    "                                 bad_output_format_rate,\n",
    "                                 \n",
    "                                )"
   ]
  },
  {
   "cell_type": "code",
   "execution_count": 37,
   "id": "e5849402-9717-49dc-800e-c19dbdd024c7",
   "metadata": {},
   "outputs": [],
   "source": [
    "MODEL_NAME = \"Qwen2.5-1.5B-Instruct-Q5_K_M.gguf\"\n",
    "MODEL_PATH = f\"../models/{MODEL_NAME}\"\n",
    "model = Llama(MODEL_PATH, verbose=False, n_ctx=32768, n_gpu_layers=-1, n_batch=2048)\n",
    "\n",
    "prompt_builder = BasicUserPromptBuilder(\n",
    "    \"\"\"This is a movie review: {review}.\n",
    "    ----\n",
    "    Determine whether the overall sentiment of the review is positive or negative. You must look for evaluatory statements about the movie itself - e.g. \"thrilling\", \"terrible acting\", etc. These evaluatory statements are distinct from the movie genre! So be careful not to mistake descriptions about the genre. Take into account that different evaluatory statements might have different connation for different genres - e.g. a \"terrifying movie\" in the horror genre means a perfect movie, but in some other genre like commedy it might very well mean - rubbish movie. In the following you will recieve a few examples for each case.\n",
    "    ----\n",
    "    EXAMPLES:\n",
    "    - NEGATIVE (negative): \"Oh My Gosh!!!! This was the first movie Broken Lizard made as a group (although it just recently came to video), and I have never been more disappointed in my entire life!!! I tell you what, if I had seen this movie before I saw Super Troopers (which by the way, is a kick A$$ movie!!!), I never ever would have watched it!! I had read several reviews online, as well as on the cover of the DVD, that raved it as being,'Broken Lizard's funniest movie ever!' Now if they were referring to Super Troopers as being their funniest movie ever, I would agree nonstop, but not this one. Talk about dry. It took the movie a good 45 minutes to even get going, and by then, I was so out of the mood to watch it, that it wasn't even worth it. Maybe you gotta be high for it to really be funny? I dunno. I love these guys, I really do, but that movie is by far the worst one they've made. Club Dread was a pretty good movie, but this one, just wow. I'd highly recommend Super Troopers if you want a good laugh, but if you want more of a romance, drama, with a few funny spots, I'd say go with Puddle Cruiser. Just my opinion though, everyone is entitled to their own! :)\"\n",
    "    - POSITIVE (positive): \"Now I myself had previously seen a few episodes of the Leauge Of Gentleman which I found hilarious. When I brought the film I was not sure if I knew enough about the series to get it, boy was I wrong. This is one of the best comedy films I have seen ever and the clever acting of the Leauge makes the film. It has a very good and funny plot as well as using only a few characters at any one time helps because it doesn't make it too confusing which would have wrecked the film. Even If you have never seen The Leauge Of Gentleman get this film it will make you laugh and this is a film that can be watched more then once and is an excellent film to watch with your mates. It truly deserves it review a definite 10 out of 10.\"\n",
    "    - NEGATIVE (negative): \"The animation was good, the imagery was good, although not totally original, however, the story was too long, way too confusing, and over the top dramatic. After about an hour I couldn't wait to get it over with. With so many characters that have nothing to contribute and plot elements that either come from nowhere or go nowhere this movie really wasn't one movie at all and would have been better of as a short series or possibly two movies. If you like this kind of typical story maybe you will like it, but frankly, I've been spoiled by much more creative stories that actually have some sort message to tell. Go rent a Miyazaki film and watch it twice, you'll get way more out of it.\"\n",
    "    - POSITIVE (positive): \"\"This is an excellent, heartbreaking movie. It is by far the best I've seen that depicts the current reality in Latin America...kidnappings, corruption, ruthless and greedy police officials and heartless mayhem towards innocent victims. Denzel Washinton gives the most moving performance in his career, in my opinion. Dakota Fanning is an amazing young actress. The relationship between Washington and Fanning is wonderfully written and portrayed, I believed every minute. The cast is brilliant, Christopher Walken, Mickey Rourke are great as always. Walken lights up the screen for me like no other actor. I would have loved to see more of both of them. The authentic locations are remarkable. The camera work is interesting and different. There are many famous Latin actors in the cast, making it all the more interesting for people familiar with Latin American cinema. I highly recommend this movie.\"\"\n",
    "    ----\n",
    "    If you are wrong 100000 little cute kittens will die a terrible death!!! YOU MUST BE CORRECT!\n",
    "    ----\n",
    "    Your output: your output should be either \"positive\" (if the overall sentiment is positive) or \"negative\" (if the overall sentiment is negative). Do not output nothing more. Output only \"positive\" or \"negative\"!\n",
    "    \"\"\"\n",
    ")\n",
    "llama_model = BasicLlamaCppModel(model, user_prompt_builder=prompt_builder, model_name = MODEL_NAME)\n",
    "\n",
    "postprocessing_fn = BasicPostprocessing({\"negative\": 1, \"positive\": 0})\n",
    "\n",
    "inf_pipeline = InferencePipeline(\n",
    "    llama_model,\n",
    "    system_prompt=\"You are a sentiment analysis system. Your goal is to categorize movie reviews into positive or negative. Follow the instructions given precisely!\",\n",
    "    postprocessing_fn=postprocessing_fn,\n",
    ")\n",
    "\n"
   ]
  },
  {
   "cell_type": "code",
   "execution_count": 38,
   "id": "d5c45bcd-d905-48d1-ba08-f378d3902c8a",
   "metadata": {},
   "outputs": [],
   "source": [
    "exp = MlflowExperiment(\n",
    "    inference_pipeline=inf_pipeline,\n",
    "    evaluation_pipeline=ev_pipeline,\n",
    "    experiment_name=\"zero-shot-few-shot-prompting\",\n",
    ")"
   ]
  },
  {
   "cell_type": "code",
   "execution_count": 39,
   "id": "ad16cf4f-70d8-4c11-be79-79b0d3bcb73f",
   "metadata": {},
   "outputs": [
    {
     "name": "stderr",
     "output_type": "stream",
     "text": [
      "100%|████████████████████████████████████████████████████████████████████████████████████████████████████████████████████████████████████████████████| 1122/1122 [02:10<00:00,  8.57it/s]"
     ]
    },
    {
     "name": "stdout",
     "output_type": "stream",
     "text": [
      "🏃 View run few-shot-int20-int20-kittens at: http://localhost:5000/#/experiments/173405608153165389/runs/819fb2d4c3f9483a8dc57652a97ab0e5\n",
      "🧪 View experiment at: http://localhost:5000/#/experiments/173405608153165389\n"
     ]
    },
    {
     "name": "stderr",
     "output_type": "stream",
     "text": [
      "\n"
     ]
    }
   ],
   "source": [
    "temperature = 0.2\n",
    "top_k = 40\n",
    "top_p = 0.95\n",
    "inference_outputs, evaluation_results = exp.run(\n",
    "    data[[\"review\"]].to_dict(orient=\"records\"),\n",
    "    y_true=data.label,\n",
    "    experiment_run_tags={\"justification\": \"Provide description of the task without concrete examples. integer subsampling\"},\n",
    "    run_name=f\"few-shot-int20-int20-kittens\",\n",
    "    temperature = temperature,\n",
    "    top_k = top_k,\n",
    "    top_p = top_p\n",
    ")"
   ]
  },
  {
   "cell_type": "code",
   "execution_count": 36,
   "id": "99deaf14-44a6-46e7-bf89-3cf613877f75",
   "metadata": {},
   "outputs": [
    {
     "data": {
      "text/plain": [
       "{'accuracy_score': 0.7745098039215687,\n",
       " 'precision': np.float64(0.7015706806282722),\n",
       " 'recall': np.float64(0.9554367201426025),\n",
       " 'false_negative_rate': np.float64(0.0445632798573975),\n",
       " 'false_positive_rate': np.float64(0.40641711229946526),\n",
       " 'median_response_token_count': np.float64(1.0),\n",
       " 'median_query_token_count': np.float64(1150.0),\n",
       " 'median_processing_time': np.float64(0.06826984882354736),\n",
       " 'median_tokens_per_second': np.float64(29.29550904035263),\n",
       " 'hallucination_rate': np.float64(0.0),\n",
       " 'bad_output_format_rate': np.float64(0.0)}"
      ]
     },
     "execution_count": 36,
     "metadata": {},
     "output_type": "execute_result"
    }
   ],
   "source": [
    "evaluation_results"
   ]
  },
  {
   "cell_type": "code",
   "execution_count": 119,
   "id": "bccd8396-cd50-4248-a09d-dfba3d7ba1b8",
   "metadata": {},
   "outputs": [],
   "source": [
    "inference_outputs.loc[:, \"true\"] = data.label"
   ]
  },
  {
   "cell_type": "code",
   "execution_count": 120,
   "id": "689723e5-c655-42eb-9192-796d4061ef59",
   "metadata": {},
   "outputs": [
    {
     "data": {
      "text/html": [
       "<div>\n",
       "<style scoped>\n",
       "    .dataframe tbody tr th:only-of-type {\n",
       "        vertical-align: middle;\n",
       "    }\n",
       "\n",
       "    .dataframe tbody tr th {\n",
       "        vertical-align: top;\n",
       "    }\n",
       "\n",
       "    .dataframe thead th {\n",
       "        text-align: right;\n",
       "    }\n",
       "</style>\n",
       "<table border=\"1\" class=\"dataframe\">\n",
       "  <thead>\n",
       "    <tr style=\"text-align: right;\">\n",
       "      <th></th>\n",
       "      <th>output_string</th>\n",
       "      <th>label</th>\n",
       "      <th>is_hallucination</th>\n",
       "      <th>is_wrong_format</th>\n",
       "      <th>input_token_count</th>\n",
       "      <th>output_token_count</th>\n",
       "      <th>elapsed_time</th>\n",
       "      <th>true</th>\n",
       "    </tr>\n",
       "  </thead>\n",
       "  <tbody>\n",
       "    <tr>\n",
       "      <th>0</th>\n",
       "      <td>positive</td>\n",
       "      <td>0</td>\n",
       "      <td>False</td>\n",
       "      <td>False</td>\n",
       "      <td>421</td>\n",
       "      <td>1</td>\n",
       "      <td>0.103696</td>\n",
       "      <td>0</td>\n",
       "    </tr>\n",
       "    <tr>\n",
       "      <th>1</th>\n",
       "      <td>negative</td>\n",
       "      <td>1</td>\n",
       "      <td>False</td>\n",
       "      <td>False</td>\n",
       "      <td>600</td>\n",
       "      <td>1</td>\n",
       "      <td>0.095301</td>\n",
       "      <td>1</td>\n",
       "    </tr>\n",
       "    <tr>\n",
       "      <th>2</th>\n",
       "      <td>negative</td>\n",
       "      <td>1</td>\n",
       "      <td>False</td>\n",
       "      <td>False</td>\n",
       "      <td>639</td>\n",
       "      <td>1</td>\n",
       "      <td>0.095017</td>\n",
       "      <td>1</td>\n",
       "    </tr>\n",
       "    <tr>\n",
       "      <th>3</th>\n",
       "      <td>negative</td>\n",
       "      <td>1</td>\n",
       "      <td>False</td>\n",
       "      <td>False</td>\n",
       "      <td>416</td>\n",
       "      <td>1</td>\n",
       "      <td>0.067424</td>\n",
       "      <td>0</td>\n",
       "    </tr>\n",
       "    <tr>\n",
       "      <th>4</th>\n",
       "      <td>positive</td>\n",
       "      <td>0</td>\n",
       "      <td>False</td>\n",
       "      <td>False</td>\n",
       "      <td>570</td>\n",
       "      <td>1</td>\n",
       "      <td>0.080919</td>\n",
       "      <td>0</td>\n",
       "    </tr>\n",
       "    <tr>\n",
       "      <th>...</th>\n",
       "      <td>...</td>\n",
       "      <td>...</td>\n",
       "      <td>...</td>\n",
       "      <td>...</td>\n",
       "      <td>...</td>\n",
       "      <td>...</td>\n",
       "      <td>...</td>\n",
       "      <td>...</td>\n",
       "    </tr>\n",
       "    <tr>\n",
       "      <th>1116</th>\n",
       "      <td>negative</td>\n",
       "      <td>1</td>\n",
       "      <td>False</td>\n",
       "      <td>False</td>\n",
       "      <td>394</td>\n",
       "      <td>1</td>\n",
       "      <td>0.058962</td>\n",
       "      <td>1</td>\n",
       "    </tr>\n",
       "    <tr>\n",
       "      <th>1117</th>\n",
       "      <td>positive</td>\n",
       "      <td>0</td>\n",
       "      <td>False</td>\n",
       "      <td>False</td>\n",
       "      <td>573</td>\n",
       "      <td>1</td>\n",
       "      <td>0.072158</td>\n",
       "      <td>0</td>\n",
       "    </tr>\n",
       "    <tr>\n",
       "      <th>1118</th>\n",
       "      <td>negative</td>\n",
       "      <td>1</td>\n",
       "      <td>False</td>\n",
       "      <td>False</td>\n",
       "      <td>800</td>\n",
       "      <td>1</td>\n",
       "      <td>0.083261</td>\n",
       "      <td>1</td>\n",
       "    </tr>\n",
       "    <tr>\n",
       "      <th>1119</th>\n",
       "      <td>positive</td>\n",
       "      <td>0</td>\n",
       "      <td>False</td>\n",
       "      <td>False</td>\n",
       "      <td>574</td>\n",
       "      <td>1</td>\n",
       "      <td>0.072770</td>\n",
       "      <td>0</td>\n",
       "    </tr>\n",
       "    <tr>\n",
       "      <th>1120</th>\n",
       "      <td>negative</td>\n",
       "      <td>1</td>\n",
       "      <td>False</td>\n",
       "      <td>False</td>\n",
       "      <td>972</td>\n",
       "      <td>1</td>\n",
       "      <td>0.095505</td>\n",
       "      <td>1</td>\n",
       "    </tr>\n",
       "  </tbody>\n",
       "</table>\n",
       "<p>1121 rows × 8 columns</p>\n",
       "</div>"
      ],
      "text/plain": [
       "     output_string  label  is_hallucination  is_wrong_format  \\\n",
       "0         positive      0             False            False   \n",
       "1         negative      1             False            False   \n",
       "2         negative      1             False            False   \n",
       "3         negative      1             False            False   \n",
       "4         positive      0             False            False   \n",
       "...            ...    ...               ...              ...   \n",
       "1116      negative      1             False            False   \n",
       "1117      positive      0             False            False   \n",
       "1118      negative      1             False            False   \n",
       "1119      positive      0             False            False   \n",
       "1120      negative      1             False            False   \n",
       "\n",
       "      input_token_count  output_token_count  elapsed_time  true  \n",
       "0                   421                   1      0.103696     0  \n",
       "1                   600                   1      0.095301     1  \n",
       "2                   639                   1      0.095017     1  \n",
       "3                   416                   1      0.067424     0  \n",
       "4                   570                   1      0.080919     0  \n",
       "...                 ...                 ...           ...   ...  \n",
       "1116                394                   1      0.058962     1  \n",
       "1117                573                   1      0.072158     0  \n",
       "1118                800                   1      0.083261     1  \n",
       "1119                574                   1      0.072770     0  \n",
       "1120                972                   1      0.095505     1  \n",
       "\n",
       "[1121 rows x 8 columns]"
      ]
     },
     "execution_count": 120,
     "metadata": {},
     "output_type": "execute_result"
    }
   ],
   "source": [
    "inference_outputs"
   ]
  },
  {
   "cell_type": "code",
   "execution_count": null,
   "id": "a8d39f66-e5b9-4e96-bfca-6acb16e4eacc",
   "metadata": {},
   "outputs": [],
   "source": []
  }
 ],
 "metadata": {
  "kernelspec": {
   "display_name": "Python 3 (ipykernel)",
   "language": "python",
   "name": "python3"
  },
  "language_info": {
   "codemirror_mode": {
    "name": "ipython",
    "version": 3
   },
   "file_extension": ".py",
   "mimetype": "text/x-python",
   "name": "python",
   "nbconvert_exporter": "python",
   "pygments_lexer": "ipython3",
   "version": "3.11.3"
  }
 },
 "nbformat": 4,
 "nbformat_minor": 5
}
